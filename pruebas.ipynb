{
 "cells": [
  {
   "cell_type": "code",
   "execution_count": 1,
   "id": "aad52baa-b5c3-412a-8637-14d677e296d3",
   "metadata": {},
   "outputs": [],
   "source": [
    "import os\n",
    "import pandas as pd\n",
    "from os import remove\n",
    "from sklearn.feature_extraction.text import TfidfVectorizer"
   ]
  },
  {
   "cell_type": "code",
   "execution_count": 2,
   "id": "298bae19-20c4-4a21-a6ba-991a92c2bb3a",
   "metadata": {
    "tags": []
   },
   "outputs": [],
   "source": [
    "\n",
    "def nombresArchivos(carpeta):\n",
    "    contenido = os.listdir(carpeta)\n",
    "    nombres = []\n",
    "    for fichero in contenido:\n",
    "        if os.path.isfile(os.path.join(carpeta, fichero)) and fichero.endswith('.txt'):\n",
    "            nombres.append(fichero)\n",
    "    return nombres"
   ]
  },
  {
   "cell_type": "code",
   "execution_count": 3,
   "id": "6699ee6a-0896-4a4b-84df-7c9d68137b38",
   "metadata": {},
   "outputs": [],
   "source": [
    "\n",
    "df_entrantes = pd.DataFrame()\n",
    "df_primeros = pd.DataFrame()\n",
    "df_segundos = pd.DataFrame()\n",
    "df_postres = pd.DataFrame()"
   ]
  },
  {
   "cell_type": "code",
   "execution_count": 4,
   "id": "553da827-e453-4961-94e3-544f59ead8b2",
   "metadata": {},
   "outputs": [],
   "source": [
    "entrantesR = '/Users/aitorperez/Documents/entrenamientoRecetas/ColeccionTextos/entrantes'\n",
    "primerosR = '/Users/aitorperez/Documents/entrenamientoRecetas/ColeccionTextos/primeros'\n",
    "segundosR = '/Users/aitorperez/Documents/entrenamientoRecetas/ColeccionTextos/segundos'\n",
    "postresR = '/Users/aitorperez/Documents/entrenamientoRecetas/ColeccionTextos/postres'\n",
    "entrantes = nombresArchivos(entrantesR)\n",
    "primeros = nombresArchivos(primerosR)\n",
    "segundos = nombresArchivos(segundosR)\n",
    "postres = nombresArchivos(postresR)"
   ]
  },
  {
   "cell_type": "code",
   "execution_count": 5,
   "id": "6baa337b-9beb-4ee7-aacb-90a7e83e06dd",
   "metadata": {},
   "outputs": [],
   "source": [
    "df_entrantes['Titulo'] = entrantes\n",
    "df_primeros['Titulo'] = primeros\n",
    "df_segundos['Titulo'] = segundos\n",
    "df_postres['Titulo'] = postres\n"
   ]
  },
  {
   "cell_type": "code",
   "execution_count": 6,
   "id": "ef5ca05c-f651-451f-94bd-9346cdad2b7f",
   "metadata": {
    "tags": []
   },
   "outputs": [
    {
     "data": {
      "text/html": [
       "<div>\n",
       "<style scoped>\n",
       "    .dataframe tbody tr th:only-of-type {\n",
       "        vertical-align: middle;\n",
       "    }\n",
       "\n",
       "    .dataframe tbody tr th {\n",
       "        vertical-align: top;\n",
       "    }\n",
       "\n",
       "    .dataframe thead th {\n",
       "        text-align: right;\n",
       "    }\n",
       "</style>\n",
       "<table border=\"1\" class=\"dataframe\">\n",
       "  <thead>\n",
       "    <tr style=\"text-align: right;\">\n",
       "      <th></th>\n",
       "      <th>Titulo</th>\n",
       "    </tr>\n",
       "  </thead>\n",
       "  <tbody>\n",
       "    <tr>\n",
       "      <th>0</th>\n",
       "      <td>Rollitos de Ensaladilla _ Receta de Cocina en ...</td>\n",
       "    </tr>\n",
       "    <tr>\n",
       "      <th>1</th>\n",
       "      <td>Bocados de Salmón y Queso _ Receta de Cocina ...</td>\n",
       "    </tr>\n",
       "    <tr>\n",
       "      <th>2</th>\n",
       "      <td>Chips de Boniato o Batata _ Receta de Cocina e...</td>\n",
       "    </tr>\n",
       "    <tr>\n",
       "      <th>3</th>\n",
       "      <td>Alioli Casero _ Receta de Cocina en Familia.txt</td>\n",
       "    </tr>\n",
       "    <tr>\n",
       "      <th>4</th>\n",
       "      <td>Patatas al Ajo Cabañil _ Receta de Cocina en ...</td>\n",
       "    </tr>\n",
       "  </tbody>\n",
       "</table>\n",
       "</div>"
      ],
      "text/plain": [
       "                                              Titulo\n",
       "0  Rollitos de Ensaladilla _ Receta de Cocina en ...\n",
       "1  Bocados de Salmón y Queso _ Receta de Cocina ...\n",
       "2  Chips de Boniato o Batata _ Receta de Cocina e...\n",
       "3    Alioli Casero _ Receta de Cocina en Familia.txt\n",
       "4  Patatas al Ajo Cabañil _ Receta de Cocina en ..."
      ]
     },
     "execution_count": 6,
     "metadata": {},
     "output_type": "execute_result"
    }
   ],
   "source": [
    "df_entrantes.head()"
   ]
  },
  {
   "cell_type": "code",
   "execution_count": 7,
   "id": "ccf541d4-1e37-4d83-b5b8-f3bb9fdd868e",
   "metadata": {
    "tags": []
   },
   "outputs": [],
   "source": [
    "listaEntrantes = []\n",
    "for i in range(len(df_entrantes)):\n",
    "    with open(entrantesR + '/' + df_entrantes.Titulo[i] , \"r\") as f:\n",
    "        textoReceta = f.read()\n",
    "        listaEntrantes.append(textoReceta)\n",
    "        f.close()"
   ]
  },
  {
   "cell_type": "code",
   "execution_count": 8,
   "id": "ab8c81b2-16f0-469c-9257-2abee8e45093",
   "metadata": {
    "tags": []
   },
   "outputs": [],
   "source": [
    "listaPrimeros = []\n",
    "for i in range(len(df_primeros)):\n",
    "    with open(primerosR + '/' + df_primeros.Titulo[i] , \"r\") as f:\n",
    "        textoReceta = f.read()\n",
    "        listaPrimeros.append(textoReceta)\n",
    "        f.close()"
   ]
  },
  {
   "cell_type": "code",
   "execution_count": 9,
   "id": "d4207029-6c8b-4295-bc3f-866ae2766dd5",
   "metadata": {},
   "outputs": [],
   "source": [
    "listaSegundos = []\n",
    "for i in range(len(df_segundos)):\n",
    "    with open(segundosR + '/' + df_segundos.Titulo[i] , \"r\") as f:\n",
    "        textoReceta = f.read()\n",
    "        listaSegundos.append(textoReceta)\n",
    "        f.close()"
   ]
  },
  {
   "cell_type": "code",
   "execution_count": 10,
   "id": "f2873b3b-0b5b-4a22-900b-85cf129fffc4",
   "metadata": {},
   "outputs": [],
   "source": [
    "\n",
    "listaPostres = []\n",
    "for i in range(len(df_postres)):\n",
    "    try:\n",
    "        with open(postresR + '/' + df_postres.Titulo[i] , \"r\") as f:\n",
    "            textoReceta = f.read()\n",
    "            listaPostres.append(textoReceta)\n",
    "            f.close()\n",
    "    except:\n",
    "        print(\"Error en \" + df_postres.Titulo[i])\n",
    "        #remove(postresR + '/' + df_postres.Titulo[i]) \n",
    "        #print(\"Eliminado!\")\n",
    "        continue"
   ]
  },
  {
   "cell_type": "code",
   "execution_count": 11,
   "id": "57429525-c309-4021-b914-0b17d8774344",
   "metadata": {},
   "outputs": [],
   "source": [
    "df_entrantes[\"Texto\"] = listaEntrantes\n",
    "df_primeros[\"Texto\"] = listaPrimeros\n",
    "df_segundos[\"Texto\"] = listaSegundos\n",
    "df_postres[\"Texto\"] = listaPostres"
   ]
  },
  {
   "cell_type": "code",
   "execution_count": 12,
   "id": "19710164-3d38-47e4-9a46-c66e927d5e01",
   "metadata": {},
   "outputs": [
    {
     "data": {
      "text/html": [
       "<div>\n",
       "<style scoped>\n",
       "    .dataframe tbody tr th:only-of-type {\n",
       "        vertical-align: middle;\n",
       "    }\n",
       "\n",
       "    .dataframe tbody tr th {\n",
       "        vertical-align: top;\n",
       "    }\n",
       "\n",
       "    .dataframe thead th {\n",
       "        text-align: right;\n",
       "    }\n",
       "</style>\n",
       "<table border=\"1\" class=\"dataframe\">\n",
       "  <thead>\n",
       "    <tr style=\"text-align: right;\">\n",
       "      <th></th>\n",
       "      <th>Titulo</th>\n",
       "      <th>Texto</th>\n",
       "    </tr>\n",
       "  </thead>\n",
       "  <tbody>\n",
       "    <tr>\n",
       "      <th>0</th>\n",
       "      <td>Cuando no tengo tiempo preparo esto con sólo ...</td>\n",
       "      <td>este delicioso postre se prepara solo con tres...</td>\n",
       "    </tr>\n",
       "    <tr>\n",
       "      <th>1</th>\n",
       "      <td>mira lo que hice en 5 MINUTOS, con PAN Y  MANZ...</td>\n",
       "      <td>este delicioso pudín de pan y manzana se prepa...</td>\n",
       "    </tr>\n",
       "    <tr>\n",
       "      <th>2</th>\n",
       "      <td>¡ 2 MANZANAS🍎 y 2 HUEVOS! POSTRE RICO Y FÁCIL...</td>\n",
       "      <td>este espectacular postre navideño se prepara u...</td>\n",
       "    </tr>\n",
       "    <tr>\n",
       "      <th>3</th>\n",
       "      <td>CON 2 YOGURES Y 2 HUEVOS HAZ ESTE DESAYUNO INC...</td>\n",
       "      <td>estás deliciosas tostadas se preparan en 5 min...</td>\n",
       "    </tr>\n",
       "    <tr>\n",
       "      <th>4</th>\n",
       "      <td>mira lo que hice en 5 minutos, todo el mundo t...</td>\n",
       "      <td>está deliciosa cheesecake se prepara en 5 minu...</td>\n",
       "    </tr>\n",
       "    <tr>\n",
       "      <th>...</th>\n",
       "      <td>...</td>\n",
       "      <td>...</td>\n",
       "    </tr>\n",
       "    <tr>\n",
       "      <th>284</th>\n",
       "      <td>¡ lo harás todos los días! tiramisú en 5 mi...</td>\n",
       "      <td>cuatro ingredientes y unos minutos es lo que n...</td>\n",
       "    </tr>\n",
       "    <tr>\n",
       "      <th>285</th>\n",
       "      <td>El pastel de YOGURT + RICO Y FÁCIL en 5 MINUT...</td>\n",
       "      <td>este delicioso pastel de yogurt se prepara en ...</td>\n",
       "    </tr>\n",
       "    <tr>\n",
       "      <th>286</th>\n",
       "      <td>EL POSTRE DE YOGUR MÁS RICO Y FÁCIL EN 3 MIN...</td>\n",
       "      <td>este delicioso pastel de yogurt se prepara en ...</td>\n",
       "    </tr>\n",
       "    <tr>\n",
       "      <th>287</th>\n",
       "      <td>mira lo que hice en 5 minutos, todo el mundo t...</td>\n",
       "      <td>este delicioso postre se prepara en unos minut...</td>\n",
       "    </tr>\n",
       "    <tr>\n",
       "      <th>288</th>\n",
       "      <td>‼️ NUNCA HABÍA PROBADO UN FLAN TAN CREMOSO, R...</td>\n",
       "      <td>este delicioso postre se prepara en 5 minutos ...</td>\n",
       "    </tr>\n",
       "  </tbody>\n",
       "</table>\n",
       "<p>289 rows × 2 columns</p>\n",
       "</div>"
      ],
      "text/plain": [
       "                                                Titulo  \\\n",
       "0    Cuando no tengo tiempo preparo esto con sólo ...   \n",
       "1    mira lo que hice en 5 MINUTOS, con PAN Y  MANZ...   \n",
       "2    ¡ 2 MANZANAS🍎 y 2 HUEVOS! POSTRE RICO Y FÁCIL...   \n",
       "3    CON 2 YOGURES Y 2 HUEVOS HAZ ESTE DESAYUNO INC...   \n",
       "4    mira lo que hice en 5 minutos, todo el mundo t...   \n",
       "..                                                 ...   \n",
       "284  ¡ lo harás todos los días! tiramisú en 5 mi...   \n",
       "285  El pastel de YOGURT + RICO Y FÁCIL en 5 MINUT...   \n",
       "286  EL POSTRE DE YOGUR MÁS RICO Y FÁCIL EN 3 MIN...   \n",
       "287  mira lo que hice en 5 minutos, todo el mundo t...   \n",
       "288  ‼️ NUNCA HABÍA PROBADO UN FLAN TAN CREMOSO, R...   \n",
       "\n",
       "                                                 Texto  \n",
       "0    este delicioso postre se prepara solo con tres...  \n",
       "1    este delicioso pudín de pan y manzana se prepa...  \n",
       "2    este espectacular postre navideño se prepara u...  \n",
       "3    estás deliciosas tostadas se preparan en 5 min...  \n",
       "4    está deliciosa cheesecake se prepara en 5 minu...  \n",
       "..                                                 ...  \n",
       "284  cuatro ingredientes y unos minutos es lo que n...  \n",
       "285  este delicioso pastel de yogurt se prepara en ...  \n",
       "286  este delicioso pastel de yogurt se prepara en ...  \n",
       "287  este delicioso postre se prepara en unos minut...  \n",
       "288  este delicioso postre se prepara en 5 minutos ...  \n",
       "\n",
       "[289 rows x 2 columns]"
      ]
     },
     "execution_count": 12,
     "metadata": {},
     "output_type": "execute_result"
    }
   ],
   "source": [
    "df_postres"
   ]
  },
  {
   "cell_type": "code",
   "execution_count": 13,
   "id": "cf8791b6-c6af-4508-b0e3-f456e60ca00e",
   "metadata": {},
   "outputs": [],
   "source": [
    "from nltk.tokenize import RegexpTokenizer       # Para tokenizar un texto\n",
    "from nltk.corpus import stopwords               # Para detectar stopwords en un texto\n",
    "from nltk.stem.snowball import SnowballStemmer  # Para stemizar los tokens\n",
    "\n",
    "def toStem(texto):\n",
    "    tokensA = RegexpTokenizer(r'\\w+').tokenize(texto.lower()) # Tokenizar y pasar a minusculas el texto recibido\n",
    "    # ---------- Eliminar stop words ----------\n",
    "    tokensB = [] # Lista que guardará la nueva lista de tokens sin stop words\n",
    "    for tok in tokensA: # Recorrer los tokens uno a uno\n",
    "        if not tok in stopwords.words(\"spanish\"): # Si no es stop-word, añadir a la lista sin stop-words\n",
    "            tokensB.append(tok)\n",
    "    # ---------- Hacer stemming ----------\n",
    "    tokensC = [] # Lista que guardara la nueva lista de tokens stemizados\n",
    "    for tok in tokensB:# Recorrer los tokens token uno a uno\n",
    "        tokensC.append(SnowballStemmer(language=\"spanish\").stem(tok)) # Transformar cada token a su correspondiente stem\n",
    "    return tokensC"
   ]
  },
  {
   "cell_type": "code",
   "execution_count": 15,
   "id": "08e54e42-f41f-48cf-8419-fd71e49e4a63",
   "metadata": {
    "tags": []
   },
   "outputs": [],
   "source": [
    "textoEntrantesPLN = []\n",
    "for i in range(len(df_entrantes)):\n",
    "    textoEntrantesPLN.append(toStem(df_entrantes[\"Texto\"][i]))\n",
    "df_entrantes[\"textoPLN\"] = textoEntrantesPLN"
   ]
  },
  {
   "cell_type": "code",
   "execution_count": 16,
   "id": "75af9894-0453-41f1-a228-dd93d6d6cf7c",
   "metadata": {},
   "outputs": [],
   "source": [
    "textoPrimerosPLN = []\n",
    "for i in range(len(df_primeros)):\n",
    "    textoPrimerosPLN.append(toStem(df_primeros[\"Texto\"][i]))\n",
    "df_primeros[\"textoPLN\"] = textoPrimerosPLN"
   ]
  },
  {
   "cell_type": "code",
   "execution_count": 17,
   "id": "26e41d19-29f3-4e77-9148-2ae722106afa",
   "metadata": {},
   "outputs": [],
   "source": [
    "textoSegundosPLN = []\n",
    "for i in range(len(df_segundos)):\n",
    "    textoSegundosPLN.append(toStem(df_segundos[\"Texto\"][i]))\n",
    "df_segundos[\"textoPLN\"] = textoSegundosPLN"
   ]
  },
  {
   "cell_type": "code",
   "execution_count": 18,
   "id": "994d6849-e50c-476a-ab22-f2cf646fbdf7",
   "metadata": {},
   "outputs": [],
   "source": [
    "textoPostresPLN = []\n",
    "for i in range(len(df_postres)):\n",
    "    textoPostresPLN.append(toStem(df_postres[\"Texto\"][i]))\n",
    "df_postres[\"textoPLN\"] = textoPostresPLN"
   ]
  },
  {
   "cell_type": "markdown",
   "id": "08b2849f-c693-4f3f-8387-941153fcefd4",
   "metadata": {
    "tags": []
   },
   "source": [
    "## Celda para guardar los datos en csv\n",
    "df_entrantes.to_csv(\"datosEntrantes.csv\")\n",
    "df_primeros.to_csv(\"datosPrimeros.csv\")\n",
    "df_segundos.to_csv(\"datosSegundos.csv\")\n",
    "df_postres.to_csv(\"datosPostres.csv\")"
   ]
  },
  {
   "cell_type": "markdown",
   "id": "475a92aa-65d2-4920-b32e-5e4a7dc106b5",
   "metadata": {},
   "source": [
    "df_entrantes = pd.read_csv(\"datosEntrantes.csv\")\n",
    "df_primeros = pd.read_csv(\"datosPrimeros.csv\")\n",
    "df_segundos = pd.read_csv(\"datosSegundos.csv\")\n",
    "df_postres = pd.read_csv(\"datosPostres.csv\")"
   ]
  },
  {
   "cell_type": "code",
   "execution_count": null,
   "id": "09c59797-7651-4674-9236-48388151ebf3",
   "metadata": {},
   "outputs": [],
   "source": []
  },
  {
   "cell_type": "code",
   "execution_count": 19,
   "id": "9308e97a-a0cb-416d-95a2-fa8a492ca279",
   "metadata": {},
   "outputs": [],
   "source": [
    "tfidf = TfidfVectorizer(min_df=0.02, max_df=0.9, ngram_range=(1,2))\n"
   ]
  },
  {
   "cell_type": "code",
   "execution_count": 20,
   "id": "05002741-e2d1-46d6-b29f-ca95c0302d3a",
   "metadata": {},
   "outputs": [],
   "source": [
    "df_entrantes[\"tf-idf\"] = None\n",
    "for i in range(len(df_entrantes)):\n",
    "    features = tfidf.fit_transform(df_entrantes[\"textoPLN\"][i])\n",
    "    df_entrantes[\"tf-idf\"][i] = features"
   ]
  },
  {
   "cell_type": "code",
   "execution_count": 21,
   "id": "3d30927c-d144-4b60-b490-cb7c52e32e0d",
   "metadata": {},
   "outputs": [],
   "source": [
    "tfidf = TfidfVectorizer(min_df=0.02, max_df=100, ngram_range=(1,2))"
   ]
  },
  {
   "cell_type": "code",
   "execution_count": 22,
   "id": "1315f4ba-19fc-4d2c-b0c1-454e5d1cebdc",
   "metadata": {},
   "outputs": [],
   "source": [
    "df_primeros[\"tf-idf\"] = None\n",
    "for i in range(len(df_primeros)):\n",
    "    features = tfidf.fit_transform(df_primeros[\"textoPLN\"][i])\n",
    "    df_primeros[\"tf-idf\"][i] = features"
   ]
  },
  {
   "cell_type": "code",
   "execution_count": 23,
   "id": "e0134486-6d1a-4344-91d9-f0d6ea61a10f",
   "metadata": {},
   "outputs": [],
   "source": [
    "df_segundos[\"tf-idf\"] = None\n",
    "for i in range(len(df_segundos)):\n",
    "    features = tfidf.fit_transform(df_segundos[\"textoPLN\"][i])\n",
    "    df_segundos[\"tf-idf\"][i] = features"
   ]
  },
  {
   "cell_type": "code",
   "execution_count": 24,
   "id": "76789059-8a0a-4181-b406-3cae7ac5c45f",
   "metadata": {},
   "outputs": [],
   "source": [
    "tfidf = TfidfVectorizer(min_df=0.002, max_df=250, ngram_range=(1,2))"
   ]
  },
  {
   "cell_type": "code",
   "execution_count": 25,
   "id": "49e0cf84-9693-43e3-ad33-5db670e1d3ee",
   "metadata": {},
   "outputs": [],
   "source": [
    "df_postres[\"tf-idf\"] = None\n",
    "for i in range(len(df_postres)):\n",
    "    features = tfidf.fit_transform(df_postres[\"textoPLN\"][i])\n",
    "    df_postres[\"tf-idf\"][i] = features"
   ]
  },
  {
   "cell_type": "code",
   "execution_count": 27,
   "id": "1a4a9af9-a8e8-4533-b747-5cb4e35e67b6",
   "metadata": {},
   "outputs": [],
   "source": [
    "df_entrantes[\"categoria\"] = \"entrantes\"\n",
    "df_primeros[\"categoria\"] = \"primeros\"\n",
    "df_segundos[\"categoria\"] = \"segundos\"\n",
    "df_postres[\"categoria\"] = \"postres\""
   ]
  },
  {
   "cell_type": "code",
   "execution_count": 28,
   "id": "f2f83fab-2dd7-4c49-918a-5e62d5e3959f",
   "metadata": {},
   "outputs": [],
   "source": [
    "df_recetas = pd.concat([df_entrantes, df_primeros, df_segundos, df_postres], axis=0)"
   ]
  },
  {
   "cell_type": "code",
   "execution_count": 29,
   "id": "e5a3d7d0-4cfd-468f-823c-8fdf1d11e266",
   "metadata": {},
   "outputs": [
    {
     "data": {
      "text/html": [
       "<div>\n",
       "<style scoped>\n",
       "    .dataframe tbody tr th:only-of-type {\n",
       "        vertical-align: middle;\n",
       "    }\n",
       "\n",
       "    .dataframe tbody tr th {\n",
       "        vertical-align: top;\n",
       "    }\n",
       "\n",
       "    .dataframe thead th {\n",
       "        text-align: right;\n",
       "    }\n",
       "</style>\n",
       "<table border=\"1\" class=\"dataframe\">\n",
       "  <thead>\n",
       "    <tr style=\"text-align: right;\">\n",
       "      <th></th>\n",
       "      <th>Titulo</th>\n",
       "      <th>Texto</th>\n",
       "      <th>textoPLN</th>\n",
       "      <th>tf-idf</th>\n",
       "      <th>categoria</th>\n",
       "    </tr>\n",
       "  </thead>\n",
       "  <tbody>\n",
       "    <tr>\n",
       "      <th>0</th>\n",
       "      <td>Rollitos de Ensaladilla _ Receta de Cocina en ...</td>\n",
       "      <td>cervecita gramaje hoy son un arreglito ensalad...</td>\n",
       "      <td>[cervecit, gramaj, hoy, arreglit, ensaladill, ...</td>\n",
       "      <td>(4, 3)\\t1.0\\n  (5, 4)\\t1.0\\n  (7, 1)\\t1.0\\n ...</td>\n",
       "      <td>entrantes</td>\n",
       "    </tr>\n",
       "    <tr>\n",
       "      <th>1</th>\n",
       "      <td>Bocados de Salmón y Queso _ Receta de Cocina ...</td>\n",
       "      <td>la receta más rica de jamón y queso y para hac...</td>\n",
       "      <td>[recet, ric, jamon, ques, hac, entrant, sencil...</td>\n",
       "      <td>(0, 18)\\t1.0\\n  (1, 20)\\t1.0\\n  (2, 14)\\t1.0...</td>\n",
       "      <td>entrantes</td>\n",
       "    </tr>\n",
       "    <tr>\n",
       "      <th>2</th>\n",
       "      <td>Chips de Boniato o Batata _ Receta de Cocina e...</td>\n",
       "      <td>receta que quiero compartir con todos vosotros...</td>\n",
       "      <td>[recet, quier, compart, delici, riquisim, boni...</td>\n",
       "      <td>(4, 3)\\t1.0\\n  (5, 0)\\t1.0\\n  (11, 1)\\t1.0\\n...</td>\n",
       "      <td>entrantes</td>\n",
       "    </tr>\n",
       "    <tr>\n",
       "      <th>3</th>\n",
       "      <td>Alioli Casero _ Receta de Cocina en Familia.txt</td>\n",
       "      <td>r7 qué va a hacer hoy es un rico alioli casero...</td>\n",
       "      <td>[r7, va, hac, hoy, ric, alioli, caser, hac, li...</td>\n",
       "      <td>(0, 25)\\t1.0\\n  (1, 30)\\t1.0\\n  (2, 16)\\t1.0...</td>\n",
       "      <td>entrantes</td>\n",
       "    </tr>\n",
       "    <tr>\n",
       "      <th>4</th>\n",
       "      <td>Patatas al Ajo Cabañil _ Receta de Cocina en ...</td>\n",
       "      <td>la canción de guerra Marcelo y zona rica retir...</td>\n",
       "      <td>[cancion, guerr, marcel, zon, ric, retir, susc...</td>\n",
       "      <td>(0, 0)\\t1.0\\n  (1, 1)\\t1.0\\n  (2, 2)\\t1.0\\n ...</td>\n",
       "      <td>entrantes</td>\n",
       "    </tr>\n",
       "    <tr>\n",
       "      <th>...</th>\n",
       "      <td>...</td>\n",
       "      <td>...</td>\n",
       "      <td>...</td>\n",
       "      <td>...</td>\n",
       "      <td>...</td>\n",
       "    </tr>\n",
       "    <tr>\n",
       "      <th>284</th>\n",
       "      <td>¡ lo harás todos los días! tiramisú en 5 mi...</td>\n",
       "      <td>cuatro ingredientes y unos minutos es lo que n...</td>\n",
       "      <td>[cuatr, ingredient, minut, necesit, prepar, de...</td>\n",
       "      <td>(0, 27)\\t1.0\\n  (1, 51)\\t1.0\\n  (2, 58)\\t1.0...</td>\n",
       "      <td>postres</td>\n",
       "    </tr>\n",
       "    <tr>\n",
       "      <th>285</th>\n",
       "      <td>El pastel de YOGURT + RICO Y FÁCIL en 5 MINUT...</td>\n",
       "      <td>este delicioso pastel de yogurt se prepara en ...</td>\n",
       "      <td>[delici, pastel, yogurt, prep, 5, minut, sol, ...</td>\n",
       "      <td>(0, 12)\\t1.0\\n  (1, 39)\\t1.0\\n  (2, 58)\\t1.0...</td>\n",
       "      <td>postres</td>\n",
       "    </tr>\n",
       "    <tr>\n",
       "      <th>286</th>\n",
       "      <td>EL POSTRE DE YOGUR MÁS RICO Y FÁCIL EN 3 MIN...</td>\n",
       "      <td>este delicioso pastel de yogurt se prepara en ...</td>\n",
       "      <td>[delici, pastel, yogurt, prep, 5, minut, sol, ...</td>\n",
       "      <td>(0, 12)\\t1.0\\n  (1, 33)\\t1.0\\n  (2, 46)\\t1.0...</td>\n",
       "      <td>postres</td>\n",
       "    </tr>\n",
       "    <tr>\n",
       "      <th>287</th>\n",
       "      <td>mira lo que hice en 5 minutos, todo el mundo t...</td>\n",
       "      <td>este delicioso postre se prepara en unos minut...</td>\n",
       "      <td>[delici, postr, prep, minut, qued, riquisim, t...</td>\n",
       "      <td>(0, 20)\\t1.0\\n  (1, 59)\\t1.0\\n  (2, 60)\\t1.0...</td>\n",
       "      <td>postres</td>\n",
       "    </tr>\n",
       "    <tr>\n",
       "      <th>288</th>\n",
       "      <td>‼️ NUNCA HABÍA PROBADO UN FLAN TAN CREMOSO, R...</td>\n",
       "      <td>este delicioso postre se prepara en 5 minutos ...</td>\n",
       "      <td>[delici, postr, prep, 5, minut, horn, qued, ri...</td>\n",
       "      <td>(0, 26)\\t1.0\\n  (1, 65)\\t1.0\\n  (2, 66)\\t1.0...</td>\n",
       "      <td>postres</td>\n",
       "    </tr>\n",
       "  </tbody>\n",
       "</table>\n",
       "<p>806 rows × 5 columns</p>\n",
       "</div>"
      ],
      "text/plain": [
       "                                                Titulo  \\\n",
       "0    Rollitos de Ensaladilla _ Receta de Cocina en ...   \n",
       "1    Bocados de Salmón y Queso _ Receta de Cocina ...   \n",
       "2    Chips de Boniato o Batata _ Receta de Cocina e...   \n",
       "3      Alioli Casero _ Receta de Cocina en Familia.txt   \n",
       "4    Patatas al Ajo Cabañil _ Receta de Cocina en ...   \n",
       "..                                                 ...   \n",
       "284  ¡ lo harás todos los días! tiramisú en 5 mi...   \n",
       "285  El pastel de YOGURT + RICO Y FÁCIL en 5 MINUT...   \n",
       "286  EL POSTRE DE YOGUR MÁS RICO Y FÁCIL EN 3 MIN...   \n",
       "287  mira lo que hice en 5 minutos, todo el mundo t...   \n",
       "288  ‼️ NUNCA HABÍA PROBADO UN FLAN TAN CREMOSO, R...   \n",
       "\n",
       "                                                 Texto  \\\n",
       "0    cervecita gramaje hoy son un arreglito ensalad...   \n",
       "1    la receta más rica de jamón y queso y para hac...   \n",
       "2    receta que quiero compartir con todos vosotros...   \n",
       "3    r7 qué va a hacer hoy es un rico alioli casero...   \n",
       "4    la canción de guerra Marcelo y zona rica retir...   \n",
       "..                                                 ...   \n",
       "284  cuatro ingredientes y unos minutos es lo que n...   \n",
       "285  este delicioso pastel de yogurt se prepara en ...   \n",
       "286  este delicioso pastel de yogurt se prepara en ...   \n",
       "287  este delicioso postre se prepara en unos minut...   \n",
       "288  este delicioso postre se prepara en 5 minutos ...   \n",
       "\n",
       "                                              textoPLN  \\\n",
       "0    [cervecit, gramaj, hoy, arreglit, ensaladill, ...   \n",
       "1    [recet, ric, jamon, ques, hac, entrant, sencil...   \n",
       "2    [recet, quier, compart, delici, riquisim, boni...   \n",
       "3    [r7, va, hac, hoy, ric, alioli, caser, hac, li...   \n",
       "4    [cancion, guerr, marcel, zon, ric, retir, susc...   \n",
       "..                                                 ...   \n",
       "284  [cuatr, ingredient, minut, necesit, prepar, de...   \n",
       "285  [delici, pastel, yogurt, prep, 5, minut, sol, ...   \n",
       "286  [delici, pastel, yogurt, prep, 5, minut, sol, ...   \n",
       "287  [delici, postr, prep, minut, qued, riquisim, t...   \n",
       "288  [delici, postr, prep, 5, minut, horn, qued, ri...   \n",
       "\n",
       "                                                tf-idf  categoria  \n",
       "0      (4, 3)\\t1.0\\n  (5, 4)\\t1.0\\n  (7, 1)\\t1.0\\n ...  entrantes  \n",
       "1      (0, 18)\\t1.0\\n  (1, 20)\\t1.0\\n  (2, 14)\\t1.0...  entrantes  \n",
       "2      (4, 3)\\t1.0\\n  (5, 0)\\t1.0\\n  (11, 1)\\t1.0\\n...  entrantes  \n",
       "3      (0, 25)\\t1.0\\n  (1, 30)\\t1.0\\n  (2, 16)\\t1.0...  entrantes  \n",
       "4      (0, 0)\\t1.0\\n  (1, 1)\\t1.0\\n  (2, 2)\\t1.0\\n ...  entrantes  \n",
       "..                                                 ...        ...  \n",
       "284    (0, 27)\\t1.0\\n  (1, 51)\\t1.0\\n  (2, 58)\\t1.0...    postres  \n",
       "285    (0, 12)\\t1.0\\n  (1, 39)\\t1.0\\n  (2, 58)\\t1.0...    postres  \n",
       "286    (0, 12)\\t1.0\\n  (1, 33)\\t1.0\\n  (2, 46)\\t1.0...    postres  \n",
       "287    (0, 20)\\t1.0\\n  (1, 59)\\t1.0\\n  (2, 60)\\t1.0...    postres  \n",
       "288    (0, 26)\\t1.0\\n  (1, 65)\\t1.0\\n  (2, 66)\\t1.0...    postres  \n",
       "\n",
       "[806 rows x 5 columns]"
      ]
     },
     "execution_count": 29,
     "metadata": {},
     "output_type": "execute_result"
    }
   ],
   "source": [
    "df_recetas"
   ]
  },
  {
   "cell_type": "code",
   "execution_count": null,
   "id": "317aca53-9ee2-435e-a27c-f6a42854492e",
   "metadata": {},
   "outputs": [],
   "source": []
  },
  {
   "cell_type": "markdown",
   "id": "580e078b-81cd-44c5-91b0-9a4a3a611f9b",
   "metadata": {},
   "source": [
    "df_entrantes.to_csv(\"datosEntrantes.csv\")\n",
    "df_primeros.to_csv(\"datosPrimeros.csv\")\n",
    "df_segundos.to_csv(\"datosSegundos.csv\")\n",
    "df_postres.to_csv(\"datosPostres.csv\")"
   ]
  },
  {
   "cell_type": "markdown",
   "id": "f54d5ec0-9436-48a5-b685-cbabadc9919a",
   "metadata": {},
   "source": [
    "X = df_entrantes.iloc[:, 3].values\n",
    "y = df_entrantes.iloc[:, 0].values\n",
    "\n",
    "from sklearn.model_selection import train_test_split\n",
    "\n",
    "X_train, X_test, y_train, y_test = train_test_split(X, y, test_size = 0.3, random_state = 0)\n",
    "\n"
   ]
  },
  {
   "cell_type": "code",
   "execution_count": 31,
   "id": "dda8f242-d203-48ff-b444-ba77efe0d3e1",
   "metadata": {},
   "outputs": [
    {
     "data": {
      "text/plain": [
       "(806, 7885)"
      ]
     },
     "execution_count": 31,
     "metadata": {},
     "output_type": "execute_result"
    }
   ],
   "source": [
    "from sklearn.feature_extraction.text import TfidfVectorizer\n",
    "Tfidf = TfidfVectorizer(min_df=5, ngram_range=(1, 2))\n",
    "tfidf_features = Tfidf.fit_transform(df_recetas.Texto)\n",
    "tfidf_features.shape"
   ]
  },
  {
   "cell_type": "code",
   "execution_count": 46,
   "id": "39bfdaf4-e8c1-42d1-8e31-f437cab51ff3",
   "metadata": {},
   "outputs": [
    {
     "name": "stdout",
     "output_type": "stream",
     "text": [
      "  (0, 3982)\t0.08034963365855124\n",
      "  (0, 6439)\t0.08655372867843734\n",
      "  (0, 5813)\t0.06864676376364788\n",
      "  (0, 6901)\t0.12097988863925528\n",
      "  (0, 1519)\t0.0637803701697825\n",
      "  (0, 7292)\t0.05919845483493195\n",
      "  (0, 6021)\t0.12357252357933639\n",
      "  (0, 4394)\t0.11288554714114785\n",
      "  (0, 3584)\t0.06910536275753504\n",
      "  (0, 5462)\t0.07005225952392737\n",
      "  (0, 1688)\t0.1097356177382391\n",
      "  (0, 5889)\t0.10340317275992016\n",
      "  (0, 1240)\t0.12990496855765532\n",
      "  (0, 5830)\t0.10340317275992016\n",
      "  (0, 7000)\t0.04685912265830869\n",
      "  (0, 4714)\t0.08814564786320117\n",
      "  (0, 7776)\t0.08927471357695128\n",
      "  (0, 5700)\t0.08986173384511313\n",
      "  (0, 6536)\t0.059949789052379354\n",
      "  (0, 1726)\t0.08413239386749838\n",
      "  (0, 3999)\t0.11464744366093635\n",
      "  (0, 6925)\t0.06711297245099088\n",
      "  (0, 6780)\t0.12651181065227288\n",
      "  (0, 4511)\t0.1057223637425363\n",
      "  (0, 4703)\t0.12990496855765532\n",
      "  :\t:\n",
      "  (805, 3675)\t0.025829507374799842\n",
      "  (805, 79)\t0.02687012050510473\n",
      "  (805, 2935)\t0.017523678107434482\n",
      "  (805, 1420)\t0.06462985087287741\n",
      "  (805, 3414)\t0.015715904342938073\n",
      "  (805, 2600)\t0.05797072632312124\n",
      "  (805, 5971)\t0.020897930264702214\n",
      "  (805, 4529)\t0.014408621897027001\n",
      "  (805, 6070)\t0.0631044902537547\n",
      "  (805, 7000)\t0.0733674949005537\n",
      "  (805, 7271)\t0.03863578216589442\n",
      "  (805, 6017)\t0.018178376423735914\n",
      "  (805, 3919)\t0.023807675287670062\n",
      "  (805, 6997)\t0.06732686876935007\n",
      "  (805, 6944)\t0.0825419689324358\n",
      "  (805, 1612)\t0.2031422701748845\n",
      "  (805, 4492)\t0.0147935218403198\n",
      "  (805, 3502)\t0.10209883352051805\n",
      "  (805, 1263)\t0.04871857051267779\n",
      "  (805, 5443)\t0.02541258142894205\n",
      "  (805, 6393)\t0.031640028820309016\n",
      "  (805, 5732)\t0.14980531572276692\n",
      "  (805, 4911)\t0.020645055383850208\n",
      "  (805, 7177)\t0.06871929836664747\n",
      "  (805, 6652)\t0.018441482340236532\n"
     ]
    }
   ],
   "source": [
    "print(tfidf_features)"
   ]
  },
  {
   "cell_type": "code",
   "execution_count": 42,
   "id": "24e44822-24cf-476a-9f38-ed75eeefcaf1",
   "metadata": {},
   "outputs": [
    {
     "name": "stdout",
     "output_type": "stream",
     "text": [
      "DESISION TREE accuracy score:\n",
      "0.9012345679012346\n"
     ]
    }
   ],
   "source": [
    "from sklearn.tree import DecisionTreeClassifier\n",
    "from sklearn.model_selection import train_test_split\n",
    "DTClass = DecisionTreeClassifier(criterion=\"gini\", splitter=\"best\", random_state=77)\n",
    "X_train, X_test, y_train, y_test = train_test_split(tfidf_features, df_recetas[\"categoria\"], test_size = 1/5, random_state = 50)\n",
    "DTClass.fit(X_train,y_train)\n",
    "prediction = DTClass.predict(X_test)\n",
    "from sklearn.metrics import accuracy_score\n",
    "print(\"DESISION TREE accuracy score:\")\n",
    "print(accuracy_score(y_test, prediction))"
   ]
  },
  {
   "cell_type": "code",
   "execution_count": 43,
   "id": "a287802d-8e0e-471e-8993-175534dd18e7",
   "metadata": {},
   "outputs": [
    {
     "name": "stdout",
     "output_type": "stream",
     "text": [
      "LINEAR SVC accuracy score:\n",
      "0.9567901234567902\n"
     ]
    }
   ],
   "source": [
    "from sklearn.svm import LinearSVC\n",
    "from sklearn.model_selection import train_test_split\n",
    "svc = LinearSVC()\n",
    "X_train, X_test, y_train, y_test = train_test_split(tfidf_features, df_recetas[\"categoria\"], test_size = 1/5, random_state = 50)\n",
    "svc.fit(X_train,y_train)\n",
    "prediction = svc.predict(X_test)\n",
    "print(\"LINEAR SVC accuracy score:\")\n",
    "print(accuracy_score(y_test, prediction))"
   ]
  },
  {
   "cell_type": "code",
   "execution_count": 47,
   "id": "7d8ef415-8a6e-4aaa-ba26-d6764eee790d",
   "metadata": {},
   "outputs": [
    {
     "name": "stdout",
     "output_type": "stream",
     "text": [
      "RANDOM FOREST accuracy score:\n",
      "0.9320987654320988\n"
     ]
    }
   ],
   "source": [
    "from sklearn.ensemble import RandomForestClassifier\n",
    "from sklearn.model_selection import train_test_split\n",
    "RFClass = RandomForestClassifier(n_estimators=500, criterion=\"gini\")\n",
    "X_train, X_test, y_train, y_test = train_test_split(tfidf_features, df_recetas[\"categoria\"], test_size = 1/5, random_state = 50)\n",
    "RFClass.fit(X_train,y_train)\n",
    "prediction = RFClass.predict(X_test)\n",
    "print(\"RANDOM FOREST accuracy score:\")\n",
    "print(accuracy_score(y_test, prediction))"
   ]
  },
  {
   "cell_type": "code",
   "execution_count": 45,
   "id": "b181d588-31c1-4e60-81ef-edb6aa5eecdf",
   "metadata": {},
   "outputs": [
    {
     "name": "stdout",
     "output_type": "stream",
     "text": [
      "SGD accuracy score:\n",
      "0.9567901234567902\n"
     ]
    }
   ],
   "source": [
    "from sklearn.linear_model import SGDClassifier\n",
    "SGDC = SGDClassifier()\n",
    "X_train, X_test, y_train, y_test = train_test_split(tfidf_features, df_recetas[\"categoria\"], test_size = 1/5, random_state = 50)\n",
    "SGDC.fit(X_train, y_train)\n",
    "prediction = SGDC.predict(X_test)\n",
    "print(\"SGD accuracy score:\")\n",
    "print(accuracy_score(y_test, prediction))"
   ]
  },
  {
   "cell_type": "code",
   "execution_count": null,
   "id": "d1929e85-2ebb-4d7d-9493-bcc66de29b7e",
   "metadata": {},
   "outputs": [],
   "source": []
  },
  {
   "cell_type": "markdown",
   "id": "bb4186bf-3c37-4f64-b5c6-263e5ae30e6b",
   "metadata": {
    "jupyter": {
     "outputs_hidden": true
    },
    "tags": []
   },
   "source": [
    "import numpy as np\n",
    "from sklearn.feature_extraction.text import CountVectorizer\n",
    "\n",
    "vectorizer = CountVectorizer()\n",
    "#\n",
    "# Create sample set of documents\n",
    "#\n",
    "docsEntrantes = df_entrantes[\"Texto\"]\n",
    "#\n",
    "# Fit the bag-of-words model\n",
    "#\n",
    "bag = vectorizer.fit_transform(docsEntrantes)\n",
    "#\n",
    "# Get unique words / tokens found in all the documents. The unique words / tokens represents\n",
    "# the features\n",
    "#\n",
    "print(vectorizer.get_feature_names())\n",
    "#\n",
    "# Associate the indices with each unique word\n",
    "#\n",
    "print(vectorizer.vocabulary_)\n",
    "#\n",
    "# Print the numerical feature vector\n",
    "#\n",
    "print(bag.toarray())\n"
   ]
  },
  {
   "cell_type": "markdown",
   "id": "86fae33b-7558-4953-b9c8-89eb0e3cb26d",
   "metadata": {},
   "source": [
    "def numberWords(df):\n",
    "    index_word = {}\n",
    "    i = 0\n",
    "    for word in df[\"textoPLN\"][0]:\n",
    "        index_word[word] = i \n",
    "        i += 1\n",
    "    print(i)"
   ]
  },
  {
   "cell_type": "markdown",
   "id": "47ae2b11-17da-4215-9c58-73e817d59fc8",
   "metadata": {},
   "source": [
    "from collections import defaultdict\n",
    "\n",
    "def bag_of_words(sent):\n",
    "    count_dict = defaultdict(int)\n",
    "    vec = np.zeros(len_vector)\n",
    "    for item in sent:\n",
    "        count_dict[item] += 1\n",
    "    for key,item in count_dict.items():\n",
    "        vec[index_word[key]] = item\n",
    "    return vec "
   ]
  },
  {
   "cell_type": "markdown",
   "id": "1b024354-08b8-470d-8dd1-7e9edc78bf4d",
   "metadata": {
    "jupyter": {
     "outputs_hidden": true
    },
    "tags": []
   },
   "source": [
    "import pandas as pd \n",
    "\n",
    "df=pd.DataFrame()\n",
    "df['receta']=None\n",
    "df['clasif']=None\n",
    "\n",
    "for index,content in enumerate(df_entrantes):\n",
    "    for i in range(len(content)):\n",
    "        text= df_entrantes[\"textoPLN\"]\n",
    "        df=df.append({'receta':text,'clasif':index},ignore_index=True)\n",
    "\n",
    "df"
   ]
  },
  {
   "cell_type": "markdown",
   "id": "74b2430e-5339-4f8a-b4d0-af9f7339337f",
   "metadata": {},
   "source": [
    "def tfidf(df):\n",
    "        hola=[]\n",
    "        for i,j in enumerate(df['textoPLN']):\n",
    "            hola.append(\" \".join(j))\n",
    "        vectorizers= TfidfVectorizer(max_features=4000)    \n",
    "        vect = vectorizers.fit_transform(hola)\n",
    "        arr=vect.toarray()\n",
    "        variable=vectorizers.get_feature_names()\n",
    "        \n",
    "\n",
    "        variables=dict.fromkeys(variable,None)\n",
    "\n",
    "        tf1=pd.DataFrame(variables,index=[0])\n",
    "        for i in range(len(df['clasif'])):\n",
    "            tf1.loc[i]=arr[i]\n",
    "        \n",
    "        X_train, X_cv, Y_train, Y_cv = train_test_split(tf1, df['clasif'], test_size = 0.2, random_state=42)\n",
    "        Y_train=list(Y_train)\n",
    "        Y_cv=list(Y_cv)"
   ]
  },
  {
   "cell_type": "markdown",
   "id": "17a5af22-9c54-45ee-86f1-7e11cc4210de",
   "metadata": {},
   "source": [
    "from sklearn.metrics import accuracy_score,hamming_loss,precision_score,recall_score,f1_score\n",
    "def print_metrics_report(clf,y_test,y_pred):\n",
    "    print(\"Clf: \", clf.__class__.__name__)\n",
    "    print('Exact Match Ratio: {0}'.format(np.round(accuracy_score(y_test, y_pred, normalize=True, sample_weight=None)*100,2)))\n",
    "\n",
    "    print('Hamming loss: {0}'.format(np.round(hamming_loss(y_test, y_pred)*100,2))) \n",
    "    print('Recall: {0}'.format(np.round(precision_score(y_test, y_pred, average='micro')*100,2)))\n",
    "    print('Precision: {0}'.format(np.round(recall_score(y_test,y_pred, average='micro')*100,2)))\n",
    "    print('F1 Measure: {0}'.format(np.round(f1_score(y_test, y_pred, average='micro')*100,2))) \n",
    "    print('-------------')\n",
    "    print(\"\")"
   ]
  },
  {
   "cell_type": "markdown",
   "id": "36dd9edf-932f-48fa-a43b-0e3630b4d2ef",
   "metadata": {},
   "source": [
    "\n",
    "from sklearn.naive_bayes import MultinomialNB\n",
    "classifier = MultinomialNB()\n",
    "classifier.fit(X_train, y_train)\n",
    "\n",
    "y_pred = classifier.predict(X_test)\n",
    "\n",
    "# Classification metrics\n",
    "from sklearn.metrics import accuracy_score, classification_report\n",
    "classification_report = classification_report(y_test, y_pred)\n",
    "\n",
    "print('\\n Accuracy: ', accuracy_score(y_test, y_pred))\n",
    "print('\\nClassification Report')\n",
    "print('======================================================')\n",
    "print('\\n', classification_report)"
   ]
  },
  {
   "cell_type": "code",
   "execution_count": null,
   "id": "50a25d16-9ccc-4467-b955-be4d24aa9401",
   "metadata": {},
   "outputs": [],
   "source": []
  }
 ],
 "metadata": {
  "kernelspec": {
   "display_name": "Python 3 (ipykernel)",
   "language": "python",
   "name": "python3"
  },
  "language_info": {
   "codemirror_mode": {
    "name": "ipython",
    "version": 3
   },
   "file_extension": ".py",
   "mimetype": "text/x-python",
   "name": "python",
   "nbconvert_exporter": "python",
   "pygments_lexer": "ipython3",
   "version": "3.10.1"
  }
 },
 "nbformat": 4,
 "nbformat_minor": 5
}
